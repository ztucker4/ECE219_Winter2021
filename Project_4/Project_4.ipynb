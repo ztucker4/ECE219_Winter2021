{
 "cells": [
  {
   "cell_type": "code",
   "execution_count": null,
   "metadata": {},
   "outputs": [],
   "source": [
    "#Questions\n",
    "\n",
    "#Q1\n",
    "#Do we include correlations between target variables? or just between features and target variables?\n",
    "\n",
    "#Q2\n",
    "#Do we do this for all numerical features? That's a ton of histograms\n",
    "\n",
    "#Q3"
   ]
  },
  {
   "cell_type": "code",
   "execution_count": 1,
   "metadata": {},
   "outputs": [
    {
     "data": {
      "application/vnd.jupyter.widget-view+json": {
       "model_id": "b84caaefcf1d4265ad2eb0c2d2bc27f7",
       "version_major": 2,
       "version_minor": 0
      },
      "text/plain": [
       "Summarize dataset:   0%|          | 0/25 [00:00<?, ?it/s]"
      ]
     },
     "metadata": {},
     "output_type": "display_data"
    },
    {
     "data": {
      "application/vnd.jupyter.widget-view+json": {
       "model_id": "3926538f56f54453bba26432945b803b",
       "version_major": 2,
       "version_minor": 0
      },
      "text/plain": [
       "Generate report structure:   0%|          | 0/1 [00:00<?, ?it/s]"
      ]
     },
     "metadata": {},
     "output_type": "display_data"
    },
    {
     "data": {
      "application/vnd.jupyter.widget-view+json": {
       "model_id": "",
       "version_major": 2,
       "version_minor": 0
      },
      "text/plain": [
       "Render widgets:   0%|          | 0/1 [00:00<?, ?it/s]"
      ]
     },
     "metadata": {},
     "output_type": "display_data"
    },
    {
     "data": {
      "application/vnd.jupyter.widget-view+json": {
       "model_id": "b57498f55c1d41e2820bcc6af8edda6b",
       "version_major": 2,
       "version_minor": 0
      },
      "text/plain": [
       "VBox(children=(Tab(children=(Tab(children=(GridBox(children=(VBox(children=(GridspecLayout(children=(HTML(valu…"
      ]
     },
     "metadata": {},
     "output_type": "display_data"
    }
   ],
   "source": [
    "#Q1a\n",
    "\n",
    "\n",
    "#Targets: suicide_no and suicide/100k\n",
    "\n",
    "#number of suicides highly correlated with population. For a fixed suicide rate, a higher population will result in a higher number of suicides\n",
    "#suicide rate slightly correlated with number of suicides. suicide_rate = suicide_no/pop. Strength of the correlation depends on pop\n",
    "\n",
    "\n",
    "#Q2a\n",
    "\n",
    "import pandas as pd\n",
    "import numpy as np\n",
    "from pandas_profiling import ProfileReport\n",
    "\n",
    "suic_df = pd.read_csv(\"archive/master.csv\")\n",
    "suic_profile = ProfileReport(suic_df, title=\"Suicide Profiling Report\")\n",
    "suic_profile.to_widgets()"
   ]
  },
  {
   "cell_type": "code",
   "execution_count": 3,
   "metadata": {},
   "outputs": [
    {
     "data": {
      "application/vnd.jupyter.widget-view+json": {
       "model_id": "02912010e53148dda10503d816d39310",
       "version_major": 2,
       "version_minor": 0
      },
      "text/plain": [
       "Summarize dataset:   0%|          | 0/29 [00:00<?, ?it/s]"
      ]
     },
     "metadata": {},
     "output_type": "display_data"
    },
    {
     "data": {
      "application/vnd.jupyter.widget-view+json": {
       "model_id": "23dcbbd18bbf40a4bb3b17d17cf2fb78",
       "version_major": 2,
       "version_minor": 0
      },
      "text/plain": [
       "Generate report structure:   0%|          | 0/1 [00:00<?, ?it/s]"
      ]
     },
     "metadata": {},
     "output_type": "display_data"
    },
    {
     "data": {
      "application/vnd.jupyter.widget-view+json": {
       "model_id": "",
       "version_major": 2,
       "version_minor": 0
      },
      "text/plain": [
       "Render widgets:   0%|          | 0/1 [00:00<?, ?it/s]"
      ]
     },
     "metadata": {},
     "output_type": "display_data"
    },
    {
     "data": {
      "application/vnd.jupyter.widget-view+json": {
       "model_id": "58a28ebb5df14d2ebb98bec4d69ca9b3",
       "version_major": 2,
       "version_minor": 0
      },
      "text/plain": [
       "VBox(children=(Tab(children=(Tab(children=(GridBox(children=(VBox(children=(GridspecLayout(children=(HTML(valu…"
      ]
     },
     "metadata": {},
     "output_type": "display_data"
    }
   ],
   "source": [
    "#Q1b\n",
    "\n",
    "#Targets: casual, registered, cnt\n",
    "\n",
    "#High correlation between registered and cnt. This implies that most users are registered \n",
    "#Medium negative correlation between \"workingday\" and casual. Workingday is 1 if the day is a holiday/weekend, 0 o.w.\n",
    "    #Implies that casual users tend to do most of their biking during the weekened/holidays - makes sense\n",
    "    #since they're probably doing it as a chill activity, rather than a daily workout or a means to get to work/school\n",
    "\n",
    "#All three have medium-high correlations with temp/atemp. People like biking in warmer weather\n",
    "#Registered/cnt have medium-high correlations with year - most registered bikers were biking in 2012.\n",
    "    # could imply that people have been using rental bikes more in more, so there were just more users in 2012 than 2011.\n",
    "\n",
    "bike_df = pd.read_csv(\"Bike-Sharing-Dataset/day.csv\")\n",
    "bike_profile = ProfileReport(bike_df, title=\"Bike Sharing Profiling Report\")\n",
    "bike_profile.to_widgets()"
   ]
  },
  {
   "cell_type": "code",
   "execution_count": 6,
   "metadata": {},
   "outputs": [
    {
     "data": {
      "application/vnd.jupyter.widget-view+json": {
       "model_id": "6d210c5e348b488b94dacf215adcea4f",
       "version_major": 2,
       "version_minor": 0
      },
      "text/plain": [
       "Summarize dataset:   0%|          | 0/35 [00:00<?, ?it/s]"
      ]
     },
     "metadata": {},
     "output_type": "display_data"
    },
    {
     "data": {
      "application/vnd.jupyter.widget-view+json": {
       "model_id": "8293cf5186cb49e1a0d2fd95df382027",
       "version_major": 2,
       "version_minor": 0
      },
      "text/plain": [
       "Generate report structure:   0%|          | 0/1 [00:00<?, ?it/s]"
      ]
     },
     "metadata": {},
     "output_type": "display_data"
    },
    {
     "data": {
      "application/vnd.jupyter.widget-view+json": {
       "model_id": "",
       "version_major": 2,
       "version_minor": 0
      },
      "text/plain": [
       "Render widgets:   0%|          | 0/1 [00:00<?, ?it/s]"
      ]
     },
     "metadata": {},
     "output_type": "display_data"
    },
    {
     "data": {
      "application/vnd.jupyter.widget-view+json": {
       "model_id": "800bb0dcfcfe441f997b01a55e31692c",
       "version_major": 2,
       "version_minor": 0
      },
      "text/plain": [
       "VBox(children=(Tab(children=(Tab(children=(GridBox(children=(VBox(children=(GridspecLayout(children=(HTML(valu…"
      ]
     },
     "metadata": {},
     "output_type": "display_data"
    }
   ],
   "source": [
    "#Q1c\n",
    "\n",
    "#Target variables: utime (transcoding time)\n",
    "\n",
    "#Transcoding time high correlated with total codec allocated memory for transcoding, and medium-high correlation\n",
    "#transcoding width/height. It takes longer to transcode larger sequences, which also means that it takes more memory to\n",
    "#transcode the sequence\n",
    "\n",
    "\n",
    "\n",
    "vid_df = pd.read_csv(\"online_video_dataset/transcoding_mesurment.tsv\", delimiter='\\t')\n",
    "vid_profile = ProfileReport(vid_df, title=\"Video Transcoding Profiling Report\")\n",
    "vid_profile.to_widgets()"
   ]
  },
  {
   "cell_type": "code",
   "execution_count": null,
   "metadata": {},
   "outputs": [],
   "source": [
    "#Q4 \n",
    "import matplotlib.pyplot as plt\n",
    "trunc_bike_df = bike_df.truncate(before=220,after=310)\n",
    "trunc_bike_df.plot(kind='bar',x='dteday',y='cnt', \n",
    "                   title='Count Number per Day',xlabel ='Date',\n",
    "                  ylabel = 'Count',figsize = (18,6), legend = False)\n",
    "\n",
    "plt.show()\n",
    "\n",
    "#I picked some random indexes into the graph - not sure is this is the best one\n",
    "#Looks like ridership goes way down on weekends, esp. Saturdays"
   ]
  },
  {
   "cell_type": "code",
   "execution_count": 18,
   "metadata": {},
   "outputs": [
    {
     "data": {
      "image/png": "[encoded data removed]",
      "text/plain": [
       "<Figure size 432x288 with 1 Axes>"
      ]
     },
     "metadata": {
      "needs_background": "light"
     },
     "output_type": "display_data"
    },
    {
     "name": "stdout",
     "output_type": "stream",
     "text": [
      "Mean: 9.996354820888579 s\n",
      "Median: 4.408 s\n"
     ]
    }
   ],
   "source": [
    "#Q6\n",
    "import matplotlib.pyplot as plt\n",
    "\n",
    "\n",
    "#Most transcodings take very little time: between 0s and 10s\n",
    "\n",
    "utime_vals = vid_df['utime'].to_numpy()\n",
    "plt.hist(utime_vals)\n",
    "plt.xlabel(\"Transcoding time\")\n",
    "plt.ylabel(\"Frequency\")\n",
    "plt.show()\n",
    "\n",
    "print(\"Mean: {} s\".format(np.mean(utime_vals)))\n",
    "print(\"Median: {} s\".format(np.median(utime_vals)))"
   ]
  }
 ],
 "metadata": {
  "kernelspec": {
   "display_name": "Python 3",
   "language": "python",
   "name": "python3"
  },
  "language_info": {
   "codemirror_mode": {
    "name": "ipython",
    "version": 3
   },
   "file_extension": ".py",
   "mimetype": "text/x-python",
   "name": "python",
   "nbconvert_exporter": "python",
   "pygments_lexer": "ipython3",
   "version": "3.8.5"
  }
 },
 "nbformat": 4,
 "nbformat_minor": 5
}

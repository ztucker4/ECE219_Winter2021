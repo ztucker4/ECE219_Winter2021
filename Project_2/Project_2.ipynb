{
 "cells": [
  {
   "cell_type": "code",
   "execution_count": 52,
   "metadata": {},
   "outputs": [
    {
     "name": "stdout",
     "output_type": "stream",
     "text": [
      "X_tfidf shape:  (7882, 21909)\n"
     ]
    }
   ],
   "source": [
    "#Q1\n",
    "#Random seed?\n",
    "#Random state for loading dataset?\n",
    "\n",
    "import nltk\n",
    "from nltk import pos_tag\n",
    "from sklearn.feature_extraction.text import TfidfTransformer\n",
    "from sklearn.feature_extraction.text import CountVectorizer\n",
    "from string import punctuation\n",
    "from nltk.corpus import stopwords\n",
    "from matplotlib import pyplot as plt\n",
    "from sklearn.datasets import fetch_20newsgroups\n",
    "\n",
    "categories = ['comp.graphics', 'comp.os.ms-windows.misc',\n",
    "'comp.sys.ibm.pc.hardware', 'comp.sys.mac.hardware',\n",
    "'rec.autos', 'rec.motorcycles',\n",
    "'rec.sport.baseball', 'rec.sport.hockey']\n",
    "\n",
    "#Vectorizer\n",
    "analyzer = CountVectorizer().build_analyzer()\n",
    "tfidf_transformer = TfidfTransformer()\n",
    "\n",
    "combined_stopwords = set.union(set(stopwords.words('english')),set(punctuation))\n",
    "\n",
    "\n",
    "def stem_rmv_punc_nolem(doc):\n",
    "    return (word for word in analyzer(doc) if word not in combined_stopwords and not word.isdigit())\n",
    "\n",
    "#Download dataset\n",
    "dataset = fetch_20newsgroups(subset='all', categories = categories, shuffle = True, random_state = 0, remove=('headers','footers')) \n",
    "\n",
    "count_vect = CountVectorizer(min_df=3,analyzer=stem_rmv_punc_nolem, stop_words='english')\n",
    "\n",
    "X_counts = count_vect.fit_transform(dataset.data)\n",
    "X_tfidf = tfidf_transformer.fit_transform(X_counts)\n",
    "\n",
    "print(\"X_tfidf shape: \", X_tfidf.shape)"
   ]
  },
  {
   "cell_type": "code",
   "execution_count": 53,
   "metadata": {},
   "outputs": [
    {
     "data": {
      "image/png": "[encoded data removed]",
      "text/plain": [
       "<Figure size 360x360 with 2 Axes>"
      ]
     },
     "metadata": {
      "needs_background": "light"
     },
     "output_type": "display_data"
    }
   ],
   "source": [
    "#Q2\n",
    "#Get labels to verify k means accuracy\n",
    "\n",
    "from sklearn.cluster import KMeans\n",
    "from plotmat import plot_mat\n",
    "from sklearn.metrics.cluster import contingency_matrix\n",
    "\n",
    "dataset_targets_bin = dataset.target.copy()\n",
    "for i in range(len(dataset_targets_bin)):\n",
    "    if dataset.target[i] in [0,1,2,3]:\n",
    "        dataset_targets_bin[i] = 0\n",
    "    else:\n",
    "        dataset_targets_bin[i] = 1\n",
    "\n",
    "kmeans_clf = KMeans(n_clusters=2, max_iter=1500, random_state=0, n_init=50)\n",
    "kmeans_clf.fit(X_tfidf)\n",
    "km_cont_mat = contingency_matrix(dataset_targets_bin, kmeans_clf.labels_)\n",
    "\n",
    "plot_mat(km_cont_mat, size=(5,5))\n",
    "        "
   ]
  },
  {
   "cell_type": "code",
   "execution_count": 54,
   "metadata": {},
   "outputs": [
    {
     "name": "stdout",
     "output_type": "stream",
     "text": [
      "Homogeneity score:  0.5600025412974119\n",
      "Completeness score:  0.5716557539454379\n",
      "V_measure score:  0.5657691483417876\n",
      "Adjusted Rand Index score:  0.6327475635535726\n",
      "Adjusted Mutual Information Score:  0.5657289846874574\n"
     ]
    }
   ],
   "source": [
    "#Q3\n",
    "from sklearn import metrics\n",
    "print(\"Homogeneity score: \", metrics.homogeneity_score(dataset_targets_bin, kmeans_clf.labels_))\n",
    "print(\"Completeness score: \", metrics.completeness_score(dataset_targets_bin, kmeans_clf.labels_))\n",
    "print(\"V_measure score: \", metrics.v_measure_score(dataset_targets_bin, kmeans_clf.labels_))\n",
    "print(\"Adjusted Rand Index score: \", metrics.adjusted_rand_score(dataset_targets_bin, kmeans_clf.labels_))\n",
    "print(\"Adjusted Mutual Information Score: \", metrics.adjusted_mutual_info_score(dataset_targets_bin, kmeans_clf.labels_))\n"
   ]
  },
  {
   "cell_type": "code",
   "execution_count": 55,
   "metadata": {},
   "outputs": [
    {
     "data": {
      "image/png": "[encoded data removed]",
      "text/plain": [
       "<Figure size 432x288 with 1 Axes>"
      ]
     },
     "metadata": {
      "needs_background": "light"
     },
     "output_type": "display_data"
    }
   ],
   "source": [
    "#Q4 \n",
    "#Random state?\n",
    "\n",
    "from sklearn.decomposition import TruncatedSVD, NMF\n",
    "import numpy as np\n",
    "\n",
    "variances = []\n",
    "r_vals = np.arange(1, 1001)\n",
    "\n",
    "trunc_svd = TruncatedSVD(n_components=1000, random_state=0)\n",
    "X_svd = trunc_svd.fit_transform(X_tfidf)\n",
    "\n",
    "variances = trunc_svd.explained_variance_ratio_\n",
    "\n",
    "plt.scatter(r_vals, variances)\n",
    "plt.xlabel(\"Principle Component (1 is top component)\")\n",
    "plt.ylabel(\"Percent of Variance\")\n",
    "plt.title(\"Percent of Total Variance for each Principle Component\")\n",
    "plt.show()"
   ]
  },
  {
   "cell_type": "code",
   "execution_count": null,
   "metadata": {},
   "outputs": [],
   "source": [
    "\n",
    "#Q5\n",
    "r_vals_5 = [1,2,3,5,10,20,50,100,300]\n",
    "metric_scores_svd = []\n",
    "metric_scores_nmf = []\n",
    "\n",
    "for r in r_vals_5:\n",
    "    nmf_model = NMF(n_components=r, init='random', random_state=0, max_iter=1000)\n",
    "    nmf_red = nmf_model.fit_transform(X_tfidf)\n",
    "    svd_red = X_svd[:,:r]\n",
    "    \n",
    "    kmeans_clf.fit(nmf_red)\n",
    "    metric_scores_nmf.append((metrics.homogeneity_score(dataset_targets_bin, kmeans_clf.labels_),\n",
    "                              metrics.completeness_score(dataset_targets_bin, kmeans_clf.labels_),\n",
    "                              metrics.v_measure_score(dataset_targets_bin, kmeans_clf.labels_),\n",
    "                              metrics.adjusted_rand_score(dataset_targets_bin, kmeans_clf.labels_),\n",
    "                              metrics.adjusted_mutual_info_score(dataset_targets_bin, kmeans_clf.labels_)))\n",
    "    kmeans_clf.fit(svd_red)\n",
    "    metric_scores_svd.append((metrics.homogeneity_score(dataset_targets_bin, kmeans_clf.labels_),\n",
    "                              metrics.completeness_score(dataset_targets_bin, kmeans_clf.labels_),\n",
    "                              metrics.v_measure_score(dataset_targets_bin, kmeans_clf.labels_),\n",
    "                              metrics.adjusted_rand_score(dataset_targets_bin, kmeans_clf.labels_),\n",
    "                              metrics.adjusted_mutual_info_score(dataset_targets_bin, kmeans_clf.labels_)))"
   ]
  },
  {
   "cell_type": "code",
   "execution_count": null,
   "metadata": {},
   "outputs": [],
   "source": [
    "plt.plot(r_vals_5, metric_scores_nmf)\n",
    "plt.legend((\"Homogeneity\",\"Completeness\",\"V_measure\", \"Adjusted Rand Score\", \"Adjusted Mutual Info\"))\n",
    "plt.xlabel(\"r\")\n",
    "plt.ylabel(\"Score\")\n",
    "plt.title(\"Scores for Various r using NMF for Dim Reduction\")\n",
    "plt.show()"
   ]
  },
  {
   "cell_type": "code",
   "execution_count": null,
   "metadata": {},
   "outputs": [],
   "source": [
    "plt.plot(r_vals_5, metric_scores_svd)"
   ]
  },
  {
   "cell_type": "code",
   "execution_count": null,
   "metadata": {},
   "outputs": [],
   "source": []
  }
 ],
 "metadata": {
  "kernelspec": {
   "display_name": "Python 3",
   "language": "python",
   "name": "python3"
  }
 },
 "nbformat": 4,
 "nbformat_minor": 4
}
